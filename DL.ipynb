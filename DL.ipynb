{
 "cells": [
  {
   "cell_type": "code",
   "execution_count": 5,
   "id": "72d63cb6",
   "metadata": {},
   "outputs": [
    {
     "name": "stdout",
     "output_type": "stream",
     "text": [
      "The autoreload extension is already loaded. To reload it, use:\n",
      "  %reload_ext autoreload\n"
     ]
    }
   ],
   "source": [
    "%load_ext autoreload\n",
    "%autoreload 2\n",
    "import rasterio\n",
    "import os\n",
    "import numpy as np\n",
    "import matplotlib.pyplot as plt\n",
    "from tqdm import tqdm\n",
    "from scipy.stats import pearsonr\n",
    "import pandas as pd\n",
    "import random\n",
    "import torch\n",
    "import torch.nn as nn\n",
    "import shutil\n",
    "from IPython.display import clear_output\n",
    "import utilities"
   ]
  },
  {
   "cell_type": "markdown",
   "id": "bcd76391",
   "metadata": {},
   "source": [
    "### Deep Learning Model Architecture"
   ]
  },
  {
   "cell_type": "code",
   "execution_count": 4,
   "id": "6c7057cb",
   "metadata": {},
   "outputs": [],
   "source": [
    "class UNet(nn.Module):\n",
    "    def __init__(self, in_channels=4, out_channels=1):\n",
    "        super().__init__()\n",
    "\n",
    "        def conv_block(in_ch, out_ch):\n",
    "            return nn.Sequential(\n",
    "                nn.Conv2d(in_ch, out_ch, 3, padding=1),\n",
    "                nn.ReLU(inplace=True),\n",
    "                nn.Conv2d(out_ch, out_ch, 3, padding=1),\n",
    "                nn.ReLU(inplace=True)\n",
    "            )\n",
    "\n",
    "        self.down1 = conv_block(in_channels, 32)\n",
    "        self.pool1 = nn.MaxPool2d(2)\n",
    "\n",
    "        self.down2 = conv_block(32, 64)\n",
    "        self.pool2 = nn.MaxPool2d(2)\n",
    "\n",
    "        self.down3 = conv_block(64, 128)\n",
    "        self.pool3 = nn.MaxPool2d(2)\n",
    "\n",
    "        self.bottleneck = conv_block(128, 256)\n",
    "\n",
    "        self.up3 = nn.ConvTranspose2d(256, 128, kernel_size=2, stride=2)\n",
    "        self.conv3 = conv_block(256, 128)\n",
    "\n",
    "        self.up2 = nn.ConvTranspose2d(128, 64, kernel_size=2, stride=2)\n",
    "        self.conv2 = conv_block(128, 64)\n",
    "\n",
    "        self.up1 = nn.ConvTranspose2d(64, 32, kernel_size=2, stride=2)\n",
    "        self.conv1 = conv_block(64, 32)\n",
    "\n",
    "        self.final = nn.Conv2d(32, out_channels, kernel_size=1)\n",
    "\n",
    "    def forward(self, x):\n",
    "        d1 = self.down1(x)\n",
    "        d2 = self.down2(self.pool1(d1))\n",
    "        d3 = self.down3(self.pool2(d2))\n",
    "        b = self.bottleneck(self.pool3(d3))\n",
    "\n",
    "        u3 = self.up3(b)\n",
    "        u3 = self.conv3(torch.cat([u3, d3], dim=1))\n",
    "\n",
    "        u2 = self.up2(u3)\n",
    "        u2 = self.conv2(torch.cat([u2, d2], dim=1))\n",
    "\n",
    "        u1 = self.up1(u2)\n",
    "        u1 = self.conv1(torch.cat([u1, d1], dim=1))\n",
    "\n",
    "        return self.final(u1)"
   ]
  },
  {
   "cell_type": "code",
   "execution_count": null,
   "id": "7459b40b",
   "metadata": {},
   "outputs": [],
   "source": [
    "model = UNet()\n",
    "utilities.run(model, lr=1e-3, num_epochs=1, input_dir='cleaned')"
   ]
  }
 ],
 "metadata": {
  "kernelspec": {
   "display_name": "Python 3",
   "language": "python",
   "name": "python3"
  },
  "language_info": {
   "codemirror_mode": {
    "name": "ipython",
    "version": 3
   },
   "file_extension": ".py",
   "mimetype": "text/x-python",
   "name": "python",
   "nbconvert_exporter": "python",
   "pygments_lexer": "ipython3",
   "version": "3.10.11"
  }
 },
 "nbformat": 4,
 "nbformat_minor": 5
}
