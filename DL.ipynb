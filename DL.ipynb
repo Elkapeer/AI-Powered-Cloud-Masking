{
 "cells": [
  {
   "cell_type": "code",
   "execution_count": 111,
   "id": "72d63cb6",
   "metadata": {},
   "outputs": [
    {
     "name": "stdout",
     "output_type": "stream",
     "text": [
      "The autoreload extension is already loaded. To reload it, use:\n",
      "  %reload_ext autoreload\n"
     ]
    }
   ],
   "source": [
    "%load_ext autoreload\n",
    "%autoreload 2\n",
    "import rasterio\n",
    "import os\n",
    "import numpy as np\n",
    "from tqdm import tqdm\n",
    "import pandas as pd\n",
    "import torch\n",
    "from torchvision import transforms\n",
    "import utilities\n",
    "from evaluation import rle_encoder_decoder\n",
    "from evaluation import evaluation_function\n",
    "from unet import UNet"
   ]
  },
  {
   "cell_type": "markdown",
   "id": "bcd76391",
   "metadata": {},
   "source": [
    "### Deep Learning Model Architecture"
   ]
  },
  {
   "cell_type": "markdown",
   "id": "3b3a38b9",
   "metadata": {},
   "source": [
    "The following cell was ran on kaggle with different hyperparameters to save time  \n",
    "and selected hyperparameters are shown below"
   ]
  },
  {
   "cell_type": "code",
   "execution_count": null,
   "id": "7459b40b",
   "metadata": {},
   "outputs": [],
   "source": [
    "model = UNet()\n",
    "utilities.run(model, lr=1e-3, num_epochs=30, input_dir='inputs/cleaned', patience=6, gamma=0.5, batch_size=4)"
   ]
  },
  {
   "cell_type": "code",
   "execution_count": null,
   "id": "9bae42a9",
   "metadata": {},
   "outputs": [
    {
     "name": "stdout",
     "output_type": "stream",
     "text": [
      "0.46666666666666673\n"
     ]
    },
    {
     "name": "stderr",
     "output_type": "stream",
     "text": [
      "C:\\Users\\Dell\\AppData\\Local\\Temp\\ipykernel_7092\\1159951108.py:2: FutureWarning: You are using `torch.load` with `weights_only=False` (the current default value), which uses the default pickle module implicitly. It is possible to construct malicious pickle data which will execute arbitrary code during unpickling (See https://github.com/pytorch/pytorch/blob/main/SECURITY.md#untrusted-models for more details). In a future release, the default value for `weights_only` will be flipped to `True`. This limits the functions that could be executed during unpickling. Arbitrary objects will no longer be allowed to be loaded via this mode unless they are explicitly allowlisted by the user via `torch.serialization.add_safe_globals`. We recommend you start setting `weights_only=True` for any use case where you don't have full control of the loaded file. Please open an issue on GitHub for any issues related to this experimental feature.\n",
      "  model.load_state_dict(torch.load('models/unet_model.pkl'))\n"
     ]
    }
   ],
   "source": [
    "model = UNet()\n",
    "model.load_state_dict(torch.load('models/unet_model.pkl'))\n",
    "with open('thresholds/unet_best_threshold.txt', 'r') as f:\n",
    "    best_threshold = float(f.read())\n",
    "print(best_threshold)"
   ]
  },
  {
   "cell_type": "code",
   "execution_count": 109,
   "id": "0d9a1e0c",
   "metadata": {},
   "outputs": [
    {
     "name": "stdout",
     "output_type": "stream",
     "text": [
      "Test:  1379\n"
     ]
    }
   ],
   "source": [
    "data_files = [f for f in os.listdir('inputs/cleaned/data')]\n",
    "_, _, test_files = utilities.split_dataset(data_files)\n",
    "print(\"Test: \", len(test_files))\n",
    "mean, std = utilities.getMeanAndStd(data_files)\n",
    "transform = utilities.transforms.Compose([transforms.Normalize(mean, std)])\n",
    "dataloader = utilities.get_data_loader(test_files, trans=transform, input_dir='inputs/cleaned', batch_size=4, shuffle=False)\n",
    "device = torch.device(\"cuda:0\" if torch.cuda.is_available() else \"cpu\")\n",
    "model = model.to(device)"
   ]
  },
  {
   "cell_type": "markdown",
   "id": "c8d70263",
   "metadata": {},
   "source": [
    "### Evaluating our DL model"
   ]
  },
  {
   "cell_type": "code",
   "execution_count": 9,
   "id": "9dae3814",
   "metadata": {},
   "outputs": [
    {
     "name": "stderr",
     "output_type": "stream",
     "text": [
      "                                                                                                       "
     ]
    },
    {
     "name": "stdout",
     "output_type": "stream",
     "text": [
      "Best threshold: 0.47 with loss: 0.0912 with Dice: 0.9325\n"
     ]
    },
    {
     "name": "stderr",
     "output_type": "stream",
     "text": [
      "\r"
     ]
    },
    {
     "data": {
      "text/plain": [
       "(0.932514849264091, 0.46666666666666673)"
      ]
     },
     "execution_count": 9,
     "metadata": {},
     "output_type": "execute_result"
    }
   ],
   "source": [
    "utilities.validate_one_epoch(model, dataloader, device, thresholds=[best_threshold])"
   ]
  },
  {
   "cell_type": "code",
   "execution_count": 103,
   "id": "368fe8e2",
   "metadata": {},
   "outputs": [],
   "source": [
    "torch.save(model, 'models/whole_unet_model.pkl')"
   ]
  },
  {
   "cell_type": "code",
   "execution_count": 110,
   "id": "89e3bae0",
   "metadata": {},
   "outputs": [
    {
     "name": "stderr",
     "output_type": "stream",
     "text": [
      "Calculating Score: 100%|██████████| 850/850 [01:24<00:00, 10.06it/s]\n"
     ]
    },
    {
     "name": "stdout",
     "output_type": "stream",
     "text": [
      "0.9194284259589189\n"
     ]
    }
   ],
   "source": [
    "input_dir = 'inputs/reviewed'\n",
    "data_files = [f for f in os.listdir(input_dir + '/data')]\n",
    "\n",
    "ids = []\n",
    "originals = []\n",
    "preds = []\n",
    "\n",
    "for f in tqdm(data_files, desc=\"Calculating Score\"):\n",
    "    original_mask_path = input_dir + '/masks/' + f\n",
    "    original_image_path = input_dir + '/data/' + f\n",
    "\n",
    "    id = os.path.splitext(f)[0]\n",
    "\n",
    "    pred = utilities.inference(model, original_image_path, best_threshold, transform)\n",
    "    if np.all(pred == 0): continue\n",
    "\n",
    "    with rasterio.open(original_mask_path) as src:\n",
    "        original_mask = src.read(1).astype(np.float32)\n",
    "    if np.all(original_mask == 0): continue\n",
    "\n",
    "    original = rle_encoder_decoder.rle_encode(original_mask)\n",
    "    pred = rle_encoder_decoder.rle_encode(pred)\n",
    "\n",
    "    preds.append(pred)\n",
    "    originals.append(original)\n",
    "    ids.append(id)\n",
    "\n",
    "submission_df = pd.DataFrame({\n",
    "    'id' : ids,\n",
    "    'segmentation': preds\n",
    "})\n",
    "\n",
    "solution_df = pd.DataFrame({\n",
    "    'id' : ids,\n",
    "    'segmentation': originals\n",
    "})\n",
    "    \n",
    "print(evaluation_function.score(solution_df, submission_df, 'id'))"
   ]
  }
 ],
 "metadata": {
  "kernelspec": {
   "display_name": "Python 3",
   "language": "python",
   "name": "python3"
  },
  "language_info": {
   "codemirror_mode": {
    "name": "ipython",
    "version": 3
   },
   "file_extension": ".py",
   "mimetype": "text/x-python",
   "name": "python",
   "nbconvert_exporter": "python",
   "pygments_lexer": "ipython3",
   "version": "3.10.11"
  }
 },
 "nbformat": 4,
 "nbformat_minor": 5
}
